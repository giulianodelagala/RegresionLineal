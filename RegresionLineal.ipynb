{
 "cells": [
  {
   "cell_type": "code",
   "execution_count": 4,
   "metadata": {},
   "outputs": [],
   "source": [
    "#Regresion Lineal\n",
    "import pandas as pd\n",
    "import numpy as np\n",
    "import random \n",
    "import matplotlib.pyplot as plt\n",
    "\n",
    "dataset = [\"ex1data2(Home_1f)\",\n",
    "              \"oceano_simple\",\n",
    "              \"petrol_consumption\"]"
   ]
  },
  {
   "cell_type": "code",
   "execution_count": 7,
   "metadata": {},
   "outputs": [],
   "source": [
    "def LeerDatos(filename : str, header = True):\n",
    "    if (header):\n",
    "        data = pd.read_csv(filename, sep ='\\t', header = 0, dtype=float)\n",
    "    else:\n",
    "        data = pd.read_csv(filename, sep ='\\t', header = None, dtype=float)\n",
    "    return np.array(data.iloc[:,:])"
   ]
  },
  {
   "cell_type": "code",
   "execution_count": 8,
   "metadata": {},
   "outputs": [],
   "source": [
    "def Normalizar_Datos(data : np.array):\n",
    "    normal = np.empty_like(data)\n",
    "    for i in range (0,np.size(data[0])):\n",
    "        media = np.mean(data[:,i])\n",
    "        desvi =np.std(data[:,i])\n",
    "        normal[:,i] = (data[:,i] - media)/desvi\n",
    "    return normal"
   ]
  },
  {
   "cell_type": "code",
   "execution_count": 9,
   "metadata": {},
   "outputs": [],
   "source": [
    "def Crear_Entrenamiento_Prueba(normal : np.array):    \n",
    "    train = normal\n",
    "    row_size = np.size(normal[:,0])\n",
    "    train_size = int(row_size * .7)\n",
    "    test_size = row_size - train_size\n",
    "    test = np.empty((test_size,np.size(normal[0])), dtype = float)\n",
    "    for i in range(0, test_size):\n",
    "        index = random.randrange(0,row_size-i)\n",
    "        test[i] = train[index]\n",
    "        train = np.delete(train, index,0)\n",
    "    return train, test"
   ]
  },
  {
   "cell_type": "code",
   "execution_count": 10,
   "metadata": {},
   "outputs": [],
   "source": [
    "def Calcular_Costo(X: np.array, y: np.array, theta: np.array):\n",
    "    #J(theta) = 1/2m SUM(h(x) - y)^2\n",
    "    m = np.size(X[:,0]) #numero de datos\n",
    "    h = np.empty(m) #termino dentro de la sumatoria\n",
    "    #Calculo de h(x)\n",
    "    h = X.dot(theta.T)\n",
    "    h = h - y\n",
    "    return np.sum( np.square(h) ) / (2*m) , h"
   ]
  },
  {
   "cell_type": "code",
   "execution_count": 11,
   "metadata": {},
   "outputs": [],
   "source": [
    "def Gradiente_Descendiente(X: np.array, y:np.array, theta:np.array,\n",
    "                          num_itera:int, tasa_apren:float):\n",
    "    m = np.size(X[:,0]) #numero de datos\n",
    "    arr_costo = np.empty(num_itera, dtype=float)   \n",
    "    #Calculo con valor inicial\n",
    "    arr_costo[0], h = Calcular_Costo(X, y, theta)\n",
    "    #Iteraciones\n",
    "    for itera in range(1,num_itera):\n",
    "        theta = theta - ( tasa_apren * (np.dot(h, X)/m))      \n",
    "        arr_costo[itera], h = Calcular_Costo(X, y, theta)\n",
    "        #print (arr_theta[itera])\n",
    "    return arr_costo, theta"
   ]
  },
  {
   "cell_type": "code",
   "execution_count": 12,
   "metadata": {},
   "outputs": [],
   "source": [
    "def Ecuacion_Normal(X :np.array , y:np.array):\n",
    "    XT = np.transpose(X)\n",
    "    return np.dot(np.dot( np.linalg.inv( np.dot(XT, X)) , XT) , y)"
   ]
  },
  {
   "cell_type": "code",
   "execution_count": 13,
   "metadata": {},
   "outputs": [],
   "source": [
    "def InicializarXo(X: np.array):\n",
    "    #Funcion para Insertar Columna X0 = 1 \n",
    "    one = np.ones( np.size(X[:,0]))  \n",
    "    return np.c_[ (one, X)]"
   ]
  },
  {
   "cell_type": "code",
   "execution_count": 14,
   "metadata": {},
   "outputs": [],
   "source": [
    "def Error_Cuadratico_Medio(x_test: np.array, y_test: np.array, theta:np.array):\n",
    "    n = np.size(y_test)\n",
    "    y_calc = np.empty(n)\n",
    "    y_calc = x_test.dot(theta)\n",
    "    #print(x_test)\n",
    "    return (np.sum(np.square(y_calc-y_test)))/n"
   ]
  },
  {
   "cell_type": "code",
   "execution_count": 15,
   "metadata": {},
   "outputs": [
    {
     "name": "stdout",
     "output_type": "stream",
     "text": [
      "ex1data2(Home_1f)\n",
      "[0.11918988 0.9081491 ]\n",
      "oceano_simple\n",
      "[ 0.01175677 -0.91702608]\n",
      "petrol_consumption\n",
      "[ 0.03559042 -0.28714339 -0.298695   -0.10405113  0.64552554]\n"
     ]
    }
   ],
   "source": [
    "#Valores Theta para la Ecuación Normal\n",
    "theta_file = []\n",
    "for file in range(0,len(dataset)):\n",
    "        train = LeerDatos(dataset[file] + \"_train.csv\", False)\n",
    "\n",
    "        X_train = InicializarXo(train[:,:-1])\n",
    "        y_train = train[:,-1]\n",
    "       \n",
    "        theta = np.zeros( (np.size(X_train[0])))\n",
    "        theta_file.append(Ecuacion_Normal(X_train,y_train))\n",
    "for file in range(0,len(dataset)):\n",
    "    print(dataset[file])\n",
    "    print(theta_file[file])"
   ]
  },
  {
   "cell_type": "code",
   "execution_count": 82,
   "metadata": {},
   "outputs": [
    {
     "name": "stdout",
     "output_type": "stream",
     "text": [
      "ex1data2(Home_1f)\n",
      "[0.11918988 0.9081491 ]\n",
      "oceano_simple\n",
      "[ 0.01175677 -0.91702608]\n",
      "petrol_consumption\n",
      "[ 0.0355895  -0.287138   -0.29869607 -0.10404665  0.64552814]\n"
     ]
    }
   ],
   "source": [
    "#Valores Theta para Gradiente Descendiente\n",
    "theta_file = []\n",
    "for file in range(0,len(dataset)):\n",
    "    train = LeerDatos(dataset[file] + \"_train.csv\", False)\n",
    "\n",
    "    X_train = InicializarXo(train[:,:-1])\n",
    "    y_train = train[:,-1]\n",
    "\n",
    "    theta = np.zeros( (np.size(X_train[0])))\n",
    "    dummy, theta_file = (Gradiente_Descendiente(X_train, y_train, theta,500, 0.05))\n",
    "    print(dataset[file])\n",
    "    print(theta_file)"
   ]
  },
  {
   "cell_type": "code",
   "execution_count": 80,
   "metadata": {},
   "outputs": [],
   "source": [
    "def GenerarTablaError(dataset: []):\n",
    "    arr_error = np.empty((len(dataset)))\n",
    "    arr_train = np.empty((len(dataset)))\n",
    "    for file in range(0,len(dataset)):\n",
    "        train = LeerDatos(dataset[file] + \"_train.csv\", False)\n",
    "        test = LeerDatos(dataset[file] + \"_test.csv\", False)\n",
    "\n",
    "        X_train = InicializarXo(train[:,:-1])\n",
    "        y_train = train[:,-1]\n",
    "\n",
    "        X_test = InicializarXo(test[:,:-1])\n",
    "        y_test = test[:,-1]\n",
    "       \n",
    "        theta = np.zeros( (np.size(X_train[0])))\n",
    "        theta_norm = Ecuacion_Normal(X_train,y_train)\n",
    "\n",
    "        arr_error[file] = Error_Cuadratico_Medio(X_test, y_test, theta_norm)\n",
    "        arr_train[file] = Error_Cuadratico_Medio(X_train, y_train, theta_norm)\n",
    "        #print(theta_norm)\n",
    "    return pd.DataFrame(arr_train, index=dataset, columns=[\"MSE\"]).T, pd.DataFrame(arr_error, index=dataset, columns=[\"MSE\"]).T\n"
   ]
  },
  {
   "cell_type": "code",
   "execution_count": 17,
   "metadata": {},
   "outputs": [
    {
     "data": {
      "text/plain": [
       "(     ex1data2(Home_1f)  oceano_simple  petrol_consumption\n",
       " MSE           0.265738       0.158686            0.333132,\n",
       "      ex1data2(Home_1f)  oceano_simple  petrol_consumption\n",
       " MSE           0.329316       0.139772            0.308714)"
      ]
     },
     "execution_count": 17,
     "metadata": {},
     "output_type": "execute_result"
    }
   ],
   "source": [
    "GenerarTablaError(dataset)"
   ]
  },
  {
   "cell_type": "code",
   "execution_count": 65,
   "metadata": {},
   "outputs": [],
   "source": [
    "def BusquedaParametros(dataset: []):\n",
    "    tasa_aprendizaje = [0.01, 0.05, 0.1, 0.2, 0.3, 0.4]\n",
    "    iteraciones = range(500,3501,500)\n",
    "    \n",
    "    for file in range(0,len(dataset)):\n",
    "        print(\"Dataset: \", dataset[file])\n",
    "        arr_error = np.empty( (len(tasa_aprendizaje),len(iteraciones) ))\n",
    "        train = LeerDatos(dataset[file] + \"_train.csv\", False)\n",
    "        test = LeerDatos(dataset[file] + \"_test.csv\", False)\n",
    "\n",
    "        X_train = InicializarXo(train[:,:-1])\n",
    "        y_train = train[:,-1]\n",
    "\n",
    "        X_test = InicializarXo(test[:,:-1])\n",
    "        y_test = test[:,-1]\n",
    "       \n",
    "        theta = np.zeros( (np.size(X_train[0])))\n",
    "        for tasa in range(0,len(tasa_aprendizaje)):\n",
    "            for iter in range(0,len(iteraciones)):\n",
    "                dummy, theta_grad = Gradiente_Descendiente(X_train, y_train, theta,\n",
    "                                                           iteraciones[iter], tasa_aprendizaje[tasa])\n",
    "                #print (\"theta_grad\", theta_grad)\n",
    "                arr_error[tasa,iter] = Error_Cuadratico_Medio(X_test, y_test, theta_grad)\n",
    "        print (pd.DataFrame(arr_error, index = tasa_aprendizaje, columns = iteraciones))"
   ]
  },
  {
   "cell_type": "code",
   "execution_count": 66,
   "metadata": {},
   "outputs": [
    {
     "name": "stdout",
     "output_type": "stream",
     "text": [
      "Dataset:  ex1data2(Home_1f)\n",
      "           500      1000      1500      2000      2500      3000      3500\n",
      "0.01  0.327403  0.329307  0.329316  0.329316  0.329316  0.329316  0.329316\n",
      "0.05  0.329316  0.329316  0.329316  0.329316  0.329316  0.329316  0.329316\n",
      "0.10  0.329316  0.329316  0.329316  0.329316  0.329316  0.329316  0.329316\n",
      "0.20  0.329316  0.329316  0.329316  0.329316  0.329316  0.329316  0.329316\n",
      "0.30  0.329316  0.329316  0.329316  0.329316  0.329316  0.329316  0.329316\n",
      "0.40  0.329316  0.329316  0.329316  0.329316  0.329316  0.329316  0.329316\n",
      "Dataset:  oceano_simple\n",
      "           500      1000      1500      2000      2500      3000      3500\n",
      "0.01  0.139973  0.139774  0.139772  0.139772  0.139772  0.139772  0.139772\n",
      "0.05  0.139772  0.139772  0.139772  0.139772  0.139772  0.139772  0.139772\n",
      "0.10  0.139772  0.139772  0.139772  0.139772  0.139772  0.139772  0.139772\n",
      "0.20  0.139772  0.139772  0.139772  0.139772  0.139772  0.139772  0.139772\n",
      "0.30  0.139772  0.139772  0.139772  0.139772  0.139772  0.139772  0.139772\n",
      "0.40  0.139772  0.139772  0.139772  0.139772  0.139772  0.139772  0.139772\n",
      "Dataset:  petrol_consumption\n",
      "           500      1000      1500      2000      2500      3000      3500\n",
      "0.01  0.311688  0.308750  0.308708  0.308712  0.308713  0.308714  0.308714\n",
      "0.05  0.308713  0.308714  0.308714  0.308714  0.308714  0.308714  0.308714\n",
      "0.10  0.308714  0.308714  0.308714  0.308714  0.308714  0.308714  0.308714\n",
      "0.20  0.308714  0.308714  0.308714  0.308714  0.308714  0.308714  0.308714\n",
      "0.30  0.308714  0.308714  0.308714  0.308714  0.308714  0.308714  0.308714\n",
      "0.40  0.308714  0.308714  0.308714  0.308714  0.308714  0.308714  0.308714\n"
     ]
    }
   ],
   "source": [
    "BusquedaParametros(dataset)"
   ]
  },
  {
   "cell_type": "code",
   "execution_count": 19,
   "metadata": {},
   "outputs": [],
   "source": [
    "def PloteoDatasetUnico(dataset:[], data:int, tasa, iteraciones, theta_comp):\n",
    "    print(\"Dataset: \", dataset[data])\n",
    "    arr_theta = []\n",
    "    train = LeerDatos(dataset[data] + \"_train.csv\", False)\n",
    "    test = LeerDatos(dataset[data] + \"_test.csv\", False)\n",
    "\n",
    "    X_train = InicializarXo(train[:,:-1])\n",
    "    y_train = train[:,-1]\n",
    "\n",
    "    X_test = InicializarXo(test[:,:-1])\n",
    "       \n",
    "    theta = np.zeros( (np.size(X_train[0])))\n",
    " \n",
    "    dummy, theta_grad = Gradiente_Descendiente(X_train, y_train, theta,\n",
    "                                                        iteraciones, tasa)\n",
    "    #print (\"theta\", theta_grad)\n",
    "         \n",
    "    arr_theta.append(theta_grad)\n",
    "    print (pd.DataFrame(arr_theta))\n",
    "\n",
    "    fig, ax = plt.subplots()\n",
    "    #Ploteo de Puntos\n",
    "    scale = 10.0\n",
    "    color = 'tab:blue'\n",
    "    ax.scatter(X_train[:,1:], y_train, c=color, s=scale, label = color,\n",
    "               alpha=0.9, edgecolors='none')\n",
    "\n",
    "    #Plotea Recta Gradiente\n",
    "    x_lim = np.array([-4,4])\n",
    "    y_lim = np.empty_like(x_lim)\n",
    "    for i in range(0,2):\n",
    "        y_lim[i] = np.sum(x_lim[i] * np.transpose(theta_grad))\n",
    "    print(y_lim)\n",
    "    plt.plot(x_lim, y_lim, 'b-')\n",
    "    \n",
    "    y_normal = np.empty_like(x_lim)\n",
    "    for i in range(0,2):\n",
    "        y_normal[i] = np.sum(x_lim[i] * np.transpose(theta_comp))\n",
    "    plt.plot(x_lim, y_normal, 'r--')\n",
    "\n",
    "    plt.title(dataset[data], {'fontsize':10})\n",
    "    ax.set(xlim =x_lim, ylim = (-4,4))\n",
    "    ax.grid(True)\n",
    "    plt.show()"
   ]
  },
  {
   "cell_type": "code",
   "execution_count": 20,
   "metadata": {},
   "outputs": [
    {
     "name": "stdout",
     "output_type": "stream",
     "text": [
      "Dataset:  ex1data2(Home_1f)\n",
      "         0         1\n",
      "0  0.11919  0.908149\n",
      "[-4  4]\n"
     ]
    },
    {
     "data": {
      "image/png": "[encoded data removed]",
      "text/plain": [
       "<Figure size 432x288 with 1 Axes>"
      ]
     },
     "metadata": {
      "needs_background": "light"
     },
     "output_type": "display_data"
    }
   ],
   "source": [
    "PloteoDatasetUnico(dataset,0 , 0.1, 1500, theta_file[0])"
   ]
  },
  {
   "cell_type": "code",
   "execution_count": 21,
   "metadata": {},
   "outputs": [
    {
     "name": "stdout",
     "output_type": "stream",
     "text": [
      "Dataset:  oceano_simple\n",
      "          0         1\n",
      "0  0.011757 -0.917026\n",
      "[ 3 -3]\n"
     ]
    },
    {
     "data": {
      "image/png": "[encoded data removed]",
      "text/plain": [
       "<Figure size 432x288 with 1 Axes>"
      ]
     },
     "metadata": {
      "needs_background": "light"
     },
     "output_type": "display_data"
    }
   ],
   "source": [
    "PloteoDatasetUnico(dataset,1 , 0.1, 500, theta_file[1])"
   ]
  },
  {
   "cell_type": "code",
   "execution_count": 22,
   "metadata": {
    "scrolled": true
   },
   "outputs": [],
   "source": [
    "def CostoGradienteDescendiente (dataset:[], data:int, tasa, iteraciones):\n",
    "    #print(\"Dataset: \", dataset[data])\n",
    "    #arr_theta = []\n",
    "    train = LeerDatos(dataset[data] + \"_train.csv\", False)\n",
    "    test = LeerDatos(dataset[data] + \"_test.csv\", False)\n",
    "\n",
    "    X_train = InicializarXo(train[:,:-1])\n",
    "    y_train = train[:,-1]\n",
    "\n",
    "    X_test = InicializarXo(test[:,:-1])\n",
    "    y_test = test[:,-1]\n",
    "       \n",
    "    theta = np.zeros( (np.size(X_train[0])))\n",
    " \n",
    "    arr_costo_train, theta_grad = Gradiente_Descendiente(X_train, y_train, theta,\n",
    "                                                        iteraciones, tasa)\n",
    "    \n",
    "    arr_costo_test, theta_grad = Gradiente_Descendiente(X_test, y_test, theta,\n",
    "                                                        iteraciones, tasa)\n",
    "    return arr_costo_train, arr_costo_test"
   ]
  },
  {
   "cell_type": "code",
   "execution_count": 47,
   "metadata": {},
   "outputs": [
    {
     "name": "stdout",
     "output_type": "stream",
     "text": [
      "Dataset:  ex1data2(Home_1f)\n",
      "Dataset:  oceano_simple\n",
      "Dataset:  petrol_consumption\n"
     ]
    }
   ],
   "source": [
    "costo_vivienda_train, costo_vivienda_test = CostoGradienteDescendiente(dataset, 0, 0.05,500)\n",
    "costo_temperatura_train, costo_temperatura_test = CostoGradienteDescendiente(dataset, 1, 0.05,500)\n",
    "costo_petroleo_train, costo_petroleo_test = CostoGradienteDescendiente(dataset, 2, 0.05,500)"
   ]
  },
  {
   "cell_type": "code",
   "execution_count": 48,
   "metadata": {},
   "outputs": [],
   "source": [
    "def PloteoCurvaCosto (dataset:[], data:int, tasa, iteraciones, arr: np.array, title):       \n",
    "    #arr_theta.append(theta_grad[-1])\n",
    "    #print (pd.DataFrame(arr))\n",
    "    fig, ax = plt.subplots()\n",
    "    #Ploteo de Curva\n",
    "    scale = 1.0\n",
    "    color = 'tab:blue'\n",
    "    plt.plot(range(0,iteraciones), arr, 'o', linewidth=1, markersize=2 )\n",
    "\n",
    "    plt.title(title, {'fontsize':10})\n",
    "    ax.set(xlim = [-50,iteraciones], ylim = (0,arr[0]))\n",
    "    ax.grid(True)\n",
    "    plt.show()"
   ]
  },
  {
   "cell_type": "code",
   "execution_count": 49,
   "metadata": {},
   "outputs": [
    {
     "data": {
      "image/png": "[encoded data removed]",
      "text/plain": [
       "<Figure size 432x288 with 1 Axes>"
      ]
     },
     "metadata": {
      "needs_background": "light"
     },
     "output_type": "display_data"
    }
   ],
   "source": [
    "PloteoCurvaCosto(dataset,0, 0.05, 500, costo_vivienda_train, \"Precio Viviendas-Train\")"
   ]
  },
  {
   "cell_type": "code",
   "execution_count": 50,
   "metadata": {},
   "outputs": [
    {
     "data": {
      "image/png": "[encoded data removed]",
      "text/plain": [
       "<Figure size 432x288 with 1 Axes>"
      ]
     },
     "metadata": {
      "needs_background": "light"
     },
     "output_type": "display_data"
    }
   ],
   "source": [
    "PloteoCurvaCosto(dataset,0, 0.05, 500, costo_vivienda_test, \"Precio Viviendas-Test\")"
   ]
  },
  {
   "cell_type": "code",
   "execution_count": 52,
   "metadata": {},
   "outputs": [
    {
     "data": {
      "image/png": "[encoded data removed]",
      "text/plain": [
       "<Figure size 432x288 with 1 Axes>"
      ]
     },
     "metadata": {
      "needs_background": "light"
     },
     "output_type": "display_data"
    }
   ],
   "source": [
    "PloteoCurvaCosto(dataset,1, 0.05,500, costo_temperatura_train, \"Temperatura Océano-Train\" )"
   ]
  },
  {
   "cell_type": "code",
   "execution_count": 54,
   "metadata": {},
   "outputs": [
    {
     "data": {
      "image/png": "[encoded data removed]",
      "text/plain": [
       "<Figure size 432x288 with 1 Axes>"
      ]
     },
     "metadata": {
      "needs_background": "light"
     },
     "output_type": "display_data"
    }
   ],
   "source": [
    "PloteoCurvaCosto(dataset,1, 0.05,500, costo_temperatura_test, \"Temperatura Océano-Test\" )"
   ]
  },
  {
   "cell_type": "code",
   "execution_count": 56,
   "metadata": {},
   "outputs": [
    {
     "data": {
      "image/png": "[encoded data removed]",
      "text/plain": [
       "<Figure size 432x288 with 1 Axes>"
      ]
     },
     "metadata": {
      "needs_background": "light"
     },
     "output_type": "display_data"
    }
   ],
   "source": [
    "PloteoCurvaCosto(dataset,1, 0.05,500, costo_petroleo_train, \"Consumo Petróleo-Train\" )"
   ]
  },
  {
   "cell_type": "code",
   "execution_count": 55,
   "metadata": {},
   "outputs": [
    {
     "data": {
      "image/png": "[encoded data removed]",
      "text/plain": [
       "<Figure size 432x288 with 1 Axes>"
      ]
     },
     "metadata": {
      "needs_background": "light"
     },
     "output_type": "display_data"
    }
   ],
   "source": [
    "PloteoCurvaCosto(dataset,1, 0.05,500, costo_petroleo_test, \"Consumo Petróleo-Test\" )"
   ]
  },
  {
   "cell_type": "code",
   "execution_count": null,
   "metadata": {},
   "outputs": [],
   "source": []
  }
 ],
 "metadata": {
  "kernelspec": {
   "display_name": "Python 3",
   "language": "python",
   "name": "python3"
  },
  "language_info": {
   "codemirror_mode": {
    "name": "ipython",
    "version": 3
   },
   "file_extension": ".py",
   "mimetype": "text/x-python",
   "name": "python",
   "nbconvert_exporter": "python",
   "pygments_lexer": "ipython3",
   "version": "3.7.7"
  }
 },
 "nbformat": 4,
 "nbformat_minor": 4
}
